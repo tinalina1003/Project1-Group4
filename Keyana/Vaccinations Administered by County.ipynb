{
 "cells": [
  {
   "cell_type": "markdown",
   "id": "96bed972",
   "metadata": {},
   "source": [
    "# Vaccinations Administered by County"
   ]
  },
  {
   "cell_type": "code",
   "execution_count": null,
   "id": "92bd6407",
   "metadata": {},
   "outputs": [],
   "source": [
    "# Dependencies and Setup\n",
    "import hvplot.pandas\n",
    "import pandas as pd\n",
    "import requests\n",
    "from api_keys import geoapify_key\n",
    "from api_keys import weather_api_key\n",
    "from scipy import stats"
   ]
  },
  {
   "cell_type": "code",
   "execution_count": null,
   "id": "0171908b",
   "metadata": {},
   "outputs": [],
   "source": [
    "# API\n",
    "url = \"http://api.openweathermap.org/data/2.5/weather?\"\n",
    "query_url = f\"{url}q={county}&units=metric&appid={weather_api_key}\"\n",
    "url_vaccine = \"https://data.cdc.gov/resource/8xkx-amqh.json?$query=SELECT%0A%20%20%60date%60%2C%0A%20%20%60fips%60%2C%0A%20%20%60mmwr_week%60%2C%0A%20%20%60recip_county%60%2C%0A%20%20%60recip_state%60%2C%0A%20%20%60completeness_pct%60%2C%0A%20%20%60administered_dose1_recip%60%2C%0A%20%20%60administered_dose1_pop_pct%60%2C%0A%20%20%60administered_dose1_recip_5plus%60%2C%0A%20%20%60administered_dose1_recip_5pluspop_pct%60%2C%0A%20%20%60administered_dose1_recip_12plus%60%2C%0A%20%20%60administered_dose1_recip_12pluspop_pct%60%2C%0A%20%20%60administered_dose1_recip_18plus%60%2C%0A%20%20%60administered_dose1_recip_18pluspop_pct%60%2C%0A%20%20%60administered_dose1_recip_65plus%60%2C%0A%20%20%60administered_dose1_recip_65pluspop_pct%60%2C%0A%20%20%60series_complete_yes%60%2C%0A%20%20%60series_complete_pop_pct%60%2C%0A%20%20%60series_complete_5plus%60%2C%0A%20%20%60series_complete_5pluspop_pct%60%2C%0A%20%20%60series_complete_5to17%60%2C%0A%20%20%60series_complete_5to17pop_pct%60%2C%0A%20%20%60series_complete_12plus%60%2C%0A%20%20%60series_complete_12pluspop_pct%60%2C%0A%20%20%60series_complete_18plus%60%2C%0A%20%20%60series_complete_18pluspop_pct%60%2C%0A%20%20%60series_complete_65plus%60%2C%0A%20%20%60series_complete_65pluspop_pct%60%2C%0A%20%20%60booster_doses%60%2C%0A%20%20%60booster_doses_vax_pct%60%2C%0A%20%20%60booster_doses_5plus%60%2C%0A%20%20%60booster_doses_5plus_vax_pct%60%2C%0A%20%20%60booster_doses_12plus%60%2C%0A%20%20%60booster_doses_12plus_vax_pct%60%2C%0A%20%20%60booster_doses_18plus%60%2C%0A%20%20%60booster_doses_18plus_vax_pct%60%2C%0A%20%20%60booster_doses_50plus%60%2C%0A%20%20%60booster_doses_50plus_vax_pct%60%2C%0A%20%20%60booster_doses_65plus%60%2C%0A%20%20%60booster_doses_65plus_vax_pct%60%2C%0A%20%20%60second_booster_50plus%60%2C%0A%20%20%60second_booster_50plus_vax_pct%60%2C%0A%20%20%60second_booster_65plus%60%2C%0A%20%20%60second_booster_65plus_vax_pct%60%2C%0A%20%20%60svi_ctgy%60%2C%0A%20%20%60series_complete_pop_pct_svi%60%2C%0A%20%20%60series_complete_5pluspop_pct_svi%60%2C%0A%20%20%60series_complete_5to17pop_pct_svi%60%2C%0A%20%20%60series_complete_12pluspop_pct_svi%60%2C%0A%20%20%60series_complete_18pluspop_pct_svi%60%2C%0A%20%20%60series_complete_65pluspop_pct_svi%60%2C%0A%20%20%60metro_status%60%2C%0A%20%20%60series_complete_pop_pct_ur_equity%60%2C%0A%20%20%60series_complete_5pluspop_pct_ur_equity%60%2C%0A%20%20%60series_complete_5to17pop_pct_ur_equity%60%2C%0A%20%20%60series_complete_12pluspop_pct_ur_equity%60%2C%0A%20%20%60series_complete_18pluspop_pct_ur_equity%60%2C%0A%20%20%60series_complete_65pluspop_pct_ur_equity%60%2C%0A%20%20%60booster_doses_vax_pct_svi%60%2C%0A%20%20%60booster_doses_12plusvax_pct_svi%60%2C%0A%20%20%60booster_doses_18plusvax_pct_svi%60%2C%0A%20%20%60booster_doses_65plusvax_pct_svi%60%2C%0A%20%20%60booster_doses_vax_pct_ur_equity%60%2C%0A%20%20%60booster_doses_12plusvax_pct_ur_equity%60%2C%0A%20%20%60booster_doses_18plusvax_pct_ur_equity%60%2C%0A%20%20%60booster_doses_65plusvax_pct_ur_equity%60%2C%0A%20%20%60census2019%60%2C%0A%20%20%60census2019_5pluspop%60%2C%0A%20%20%60census2019_5to17pop%60%2C%0A%20%20%60census2019_12pluspop%60%2C%0A%20%20%60census2019_18pluspop%60%2C%0A%20%20%60census2019_65pluspop%60%2C%0A%20%20%60bivalent_booster_5plus%60%2C%0A%20%20%60bivalent_booster_5plus_pop_pct%60%2C%0A%20%20%60bivalent_booster_12plus%60%2C%0A%20%20%60bivalent_booster_12plus_pop_pct%60%2C%0A%20%20%60bivalent_booster_18plus%60%2C%0A%20%20%60bivalent_booster_18plus_pop_pct%60%2C%0A%20%20%60bivalent_booster_65plus%60%2C%0A%20%20%60bivalent_booster_65plus_pop_pct%60\"\n"
   ]
  },
  {
   "cell_type": "code",
   "execution_count": null,
   "id": "fe943ebb",
   "metadata": {},
   "outputs": [],
   "source": [
    "# Clean data\n",
    "\n",
    "# Want columns \n",
    "#Recip_County\n",
    "#Administered_Dose1_Recip_5Plus, Administered_Dose1_Recip_12Plus,\n",
    "#Administered_Dose1_Recip_18Plus, Administered_Dose1_Recip_65Plus,\n",
    "#Add these four columns together for total dose 1 administered\n",
    "\n",
    "#Series_Complete_5Plus, Series_Complete_12Plus, Series_Complete_18Plus, Series_Complete_65Plus\n",
    "#Add these four columns together for total series administrated\n",
    "\n"
   ]
  },
  {
   "cell_type": "code",
   "execution_count": null,
   "id": "5792f3a2",
   "metadata": {},
   "outputs": [],
   "source": [
    "# Find latitude and longitude for each county\n",
    "countys = [len(\"Recip_County\")]\n",
    "\n",
    "lat = []\n",
    "lon = []\n",
    "\n",
    "for county in countys:\n",
    "    response = requests.get(query_url + county).json()\n",
    "    lat.append['coord']['lat']\n",
    "    lon.append['coord']['lon']\n",
    "    \n"
   ]
  },
  {
   "cell_type": "code",
   "execution_count": null,
   "id": "2f169cae",
   "metadata": {},
   "outputs": [],
   "source": [
    "# Drop columns with null data\n"
   ]
  },
  {
   "cell_type": "code",
   "execution_count": 1,
   "id": "7c1b7e8d",
   "metadata": {},
   "outputs": [
    {
     "ename": "SyntaxError",
     "evalue": "expression expected after dictionary key and ':' (947557971.py, line 4)",
     "output_type": "error",
     "traceback": [
      "\u001b[0;36m  Cell \u001b[0;32mIn[1], line 4\u001b[0;36m\u001b[0m\n\u001b[0;31m    \"Location Administration City\":\u001b[0m\n\u001b[0m                                  ^\u001b[0m\n\u001b[0;31mSyntaxError\u001b[0m\u001b[0;31m:\u001b[0m expression expected after dictionary key and ':'\n"
     ]
    }
   ],
   "source": [
    "# Create dataframe\n",
    "vaccine_df = pd.DataFrame({\n",
    "    \"Recip_County\": countys,\n",
    "    \"lat\": lat,\n",
    "    \"lon\": lon,\n",
    "    \"Administered_Dose1_Recip_5Plus\": , \n",
    "    \"Administered_Dose1_Recip_12Plus\": ,\n",
    "    \"Administered_Dose1_Recip_18Plus\": , \n",
    "    \"Administered_Dose1_Recip_65Plus\": ,\n",
    "    \"Series_Complete_5Plus\": , \n",
    "    \"Series_Complete_12Plus\": , \n",
    "    \"Series_Complete_18Plus\": , \n",
    "    \"Series_Complete_65Plus\": \n",
    "    \n",
    "})\n",
    "\n",
    "#Rename columns\n",
    "\n",
    "\n",
    "vaccine_df = pd.DataFrame(vaccine_dict)\n",
    "vaccine_df"
   ]
  },
  {
   "cell_type": "code",
   "execution_count": null,
   "id": "a939d2cf",
   "metadata": {},
   "outputs": [],
   "source": [
    "# Statistical summary for 1 dose\n",
    "#Alter once totals for vaccinations of dose 1 and series calculated\n",
    "mean_dose1_5 = vaccine_df['Administered_Dose1_Recip_5Plus'].groupby(vaccine_df['County']).mean()\n",
    "median_dose1_5 = vaccine_df['Administered_Dose1_Recip_5Plus'].groupby(vaccine_df['County']).median()\n",
    "variance_dose1_5 = vaccine_study_df['Administered_Dose1_Recip_5Plus'].groupby(vaccine_df['County']).var()\n",
    "std_dev_dose1_5 = vaccine_df['Administered_Dose1_Recip_5Plus'].groupby(vaccine_df['County']).std()\n",
    "sem_dose1_5 = vaccine_df['Administered_Dose1_Recip_5Plus'].groupby(vaccine_df['County']).sem()\n",
    "\n",
    "mean_dose1_12 = vaccine_df['Administered_Dose1_Recip_12Plus'].groupby(vaccine_df['County']).mean()\n",
    "median_dose1_12 = vaccine_df['Administered_Dose1_Recip_12Plus'].groupby(vaccine_df['County']).median()\n",
    "variance_dose1_12 = vaccine_df['Administered_Dose1_Recip_12Plus'].groupby(vaccine_df['County']).var()\n",
    "std_dev_dose1_12 = vaccine_df['Administered_Dose1_Recip_12Plus'].groupby(vaccine_df['County']).std()\n",
    "sem_dose1_12 = vaccine_df['Administered_Dose1_Recip_12Plus'].groupby(vaccine_df['County']).sem()\n",
    "\n",
    "mean_dose1_18 = vaccine_df['Administered_Dose1_Recip_18Plus'].groupby(vaccine_df['County']).mean()\n",
    "median_dose1_18 = vaccine_df['Administered_Dose1_Recip_18Plus'].groupby(vaccine_df['County']).median()\n",
    "variance_dose1_18 = vaccine_df['Administered_Dose1_Recip_18Plus'].groupby(vaccine_df['County']).var()\n",
    "std_dev_dose1_18 = vaccine_df['Administered_Dose1_Recip_18Plus'].groupby(vaccine_df['County']).std()\n",
    "sem_dose1_18 = vaccine_df['Administered_Dose1_Recip_18Plus'].groupby(vaccine_df['County']).sem()\n",
    "\n",
    "mean_dose1_65 = vaccine_df['Administered_Dose1_Recip_65Plus'].groupby(vaccine_df['County']).mean()\n",
    "median_dose1_65 = vaccine_df['Administered_Dose1_Recip_65Plus'].groupby(vaccine_df['County']).median()\n",
    "variance_dose1_65 = vaccine_df['Administered_Dose1_Recip_65Plus'].groupby(vaccine_df['County']).var()\n",
    "std_dev_dose1_65 = vaccine_df['Administered_Dose1_Recip_65Plus'].groupby(vaccine_df['County']).std()\n",
    "sem_dose1_65 = vaccine_df['Administered_Dose1_Recip_65Plus'].groupby(vaccine_df['County']).sem()\n",
    "\n",
    "summary_dose1_df = pd.DataFrame({\"Mean Dose 1 Vaccine Distribution (Age 5+)\": mean_dose1_5,\n",
    "                           \"Mean Dose 1 Vaccine Distribution (Age 12+)\": mean_dose1_12,\n",
    "                           \"Mean Dose 1 Vaccine Distribution (Age 18+)\": mean_dose1_18,\n",
    "                           \"Mean Dose 1 Vaccine Distribution (Age 65+)\": mean_dose1_65,\n",
    "                           \"Median Dose 1 Vaccine Distribution (Age 5+)\": median_dose1_5,\n",
    "                           \"Median Dose 1 Vaccine Distribution (Age 12+)\": median_dose1_12,\n",
    "                           \"Median Dose 1 Vaccine Distribution (Age 18+)\": median_dose1_18,\n",
    "                           \"Median Dose 1 Vaccine Distribution (Age 65+)\": median_dose1_65,\n",
    "                           \"Dose 1 Vaccine Distribution Variance (Age 5+)\": variance_dose1_5,\n",
    "                           \"Dose 1 Vaccine Distribution Variance (Age 12+)\": variance_dose1_12,\n",
    "                           \"Dose 1 Vaccine Distribution Variance (Age 18+)\": variance_dose1_18,\n",
    "                           \"Dose 1 Vaccine Distribution Variance (Age 65+)\": variance_dose1_65,\n",
    "                           \"Dose 1 Vaccine Distribution Std. Dev (Age 5+)\": std_dev_dose1_5,\n",
    "                           \"Dose 1 Vaccine Distribution Std. Dev (Age 12+)\": std_dev_dose1_12,\n",
    "                           \"Dose 1 Vaccine Distribution Std. Dev (Age 18+)\": std_dev_dose1_18,\n",
    "                           \"Dose 1 Vaccine Distribution Std. Dev (Age 65+)\": std_dev_dose1_65,\n",
    "                           \"Dose 1 Vaccine Distribution Std. Err. (Age 5+)\": sem_dose1_5,\n",
    "                           \"Dose 1 Vaccine Distribution Std. Err. (Age 12+)\": sem_dose1_12,\n",
    "                           \"Dose 1 Vaccine Distribution Std. Err. (Age 18+)\": sem_dose1_18,\n",
    "                           \"Dose 1 Vaccine Distribution Std. Err. (Age 65+)\": sem_dose1_65})\n",
    "summary_dose1_df"
   ]
  },
  {
   "cell_type": "code",
   "execution_count": null,
   "id": "8fc25d92",
   "metadata": {},
   "outputs": [],
   "source": [
    "# Statistical summary for series\n",
    "mean_series_5 = vaccine_df['Series_Complete_5Plus'].groupby(vaccine_df['County']).mean()\n",
    "median_series_5 = vaccine_df['Series_Complete_5Plus'].groupby(vaccine_df['County']).median()\n",
    "variance_series_5 = vaccine_df['Series_Complete_5Plus'].groupby(vaccine_df['County']).var()\n",
    "std_dev_series_5 = vaccine_df['Series_Complete_5Plus'].groupby(vaccine_df['County']).std()\n",
    "sem_series_5 = vaccine_df['Series_Complete_5Plus'].groupby(vaccine_df['County']).sem()\n",
    "\n",
    "mean_series_12 = vaccine_df['Series_Complete_12Plus'].groupby(vaccine_df['County']).mean()\n",
    "median_series_12 = vaccine_df['Series_Complete_12Plus'].groupby(vaccine_df['County']).median()\n",
    "variance_series_12 = vaccine_df['Series_Complete_12Plus'].groupby(vaccine_df['County']).var()\n",
    "std_dev_series_12 = vaccine_df['Series_Complete_12Plus'].groupby(vaccine_df['County']).std()\n",
    "sem_series_12 = vaccine_df['Series_Complete_12Plus'].groupby(vaccine_df['County']).sem()\n",
    "\n",
    "mean_series_18 = vaccine_df['Series_Complete_18Plus'].groupby(vaccine_df['County']).mean()\n",
    "median_series_18 = vaccine_df['Series_Complete_18Plus'].groupby(vaccine_df['County']).median()\n",
    "variance_series_18 = vaccine_df['Series_Complete_18Plus'].groupby(vaccine_df['County']).var()\n",
    "std_dev_series_18 = vaccine_df['Series_Complete_18Plus'].groupby(vaccine_df['County']).std()\n",
    "sem_series_18 = vaccine_df['Series_Complete_18Plus'].groupby(vaccine_df['County']).sem()\n",
    "\n",
    "mean_series_65 = vaccine_df['Series_Complete_65Plus'].groupby(vaccine_df['County']).mean()\n",
    "median_series_65 = vaccine_df['Series_Complete_65Plus'].groupby(vaccine_df['County']).median()\n",
    "variance_series_65 = vaccine_df['Series_Complete_65Plus'].groupby(vaccine_df['County']).var()\n",
    "std_dev_series_65 = vaccine_df['Series_Complete_65Plus'].groupby(vaccine_df['County']).std()\n",
    "sem_series_65 = vaccine_df['Series_Complete_65Plus'].groupby(vaccine_df['County']).sem()\n",
    "\n",
    "summary_series_df = pd.DataFrame({\"Mean Series Vaccine Distribution (Age 5+)\": mean_series_5,\n",
    "                                  \"Mean Series Vaccine Distribution (Age 12+)\": mean_series_12,\n",
    "                                  \"Mean Series Vaccine Distribution (Age 18+)\": mean_series_18,\n",
    "                                  \"Mean Series Vaccine Distribution (Age 65+)\": mean_series_65,\n",
    "                                  \"Median Series Vaccine Distribution (Age 5+)\": median_series_5,\n",
    "                                  \"Median Series Vaccine Distribution (Age 12+)\": median_series_12,\n",
    "                                  \"Median Series Vaccine Distribution (Age 18+)\": median_series_18,\n",
    "                                  \"Median Series Vaccine Distribution (Age 65+)\": median_series_65,\n",
    "                                  \"Series Vaccine Distribution Variance (Age 5+)\" variance_series_5,\n",
    "                                  \"Series Vaccine Distribution Variance (Age 12+)\" variance_series_12,\n",
    "                                  \"Series Vaccine Distribution Variance (Age 18+)\" variance_series_18,\n",
    "                                  \"Series Vaccine Distribution Variance (Age 65+)\" variance_series_65,\n",
    "                                  \"Series Vaccine Distribution Std. Dev (Age 5+)\": std_dev_series_5,\n",
    "                                  \"Series Vaccine Distribution Std. Dev (Age 12+)\": std_dev_series_12,\n",
    "                                  \"Series Vaccine Distribution Std. Dev (Age 18+)\": std_dev_series_18,\n",
    "                                  \"Series Vaccine Distribution Std. Dev (Age 65+)\": std_dev_series_65,\n",
    "                                  \"Series Vaccine Distribution Std. Err (Age 5+)\": sem_series_5,\n",
    "                                  \"Series Vaccine Distribution Std. Err (Age 12+)\": sem_series_12,\n",
    "                                  \"Series Vaccine Distribution Std. Err (Age 18+)\": sem_series_18,\n",
    "                                  \"Series Vaccine Distribution Std. Err (Age 65+)\": sem_series_65})\n",
    "summary_series_df"
   ]
  },
  {
   "cell_type": "code",
   "execution_count": null,
   "id": "b6e93866",
   "metadata": {},
   "outputs": [],
   "source": [
    "# Configure map\n",
    "map_plot_1 = airports_df.hvplot.points(\n",
    "    \"Lon\",\n",
    "    \"Lat\",\n",
    "    geo = True,\n",
    "    tiles = \"OSM\",\n",
    "    frame_width = 800,\n",
    "    frame_height = 600,\n",
    "    size = \"Number of Vaccines Administrated\",\n",
    "    scale = 0.5, \n",
    "    color = \"County\"\n",
    ")\n",
    "\n",
    "# Display the map plot\n",
    "map_plot_1"
   ]
  }
 ],
 "metadata": {
  "kernelspec": {
   "display_name": "Python [conda env:dev] *",
   "language": "python",
   "name": "conda-env-dev-py"
  },
  "language_info": {
   "codemirror_mode": {
    "name": "ipython",
    "version": 3
   },
   "file_extension": ".py",
   "mimetype": "text/x-python",
   "name": "python",
   "nbconvert_exporter": "python",
   "pygments_lexer": "ipython3",
   "version": "3.10.12"
  }
 },
 "nbformat": 4,
 "nbformat_minor": 5
}
